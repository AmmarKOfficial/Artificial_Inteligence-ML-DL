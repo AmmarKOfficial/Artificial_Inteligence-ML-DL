{
 "cells": [
  {
   "cell_type": "code",
   "execution_count": 4,
   "id": "0de5b28c",
   "metadata": {},
   "outputs": [
    {
     "name": "stdout",
     "output_type": "stream",
     "text": [
      "[[25  2]\n",
      " [10 15]]\n",
      "Accuracy = 76.92307692307693\n",
      " Accuracy : 75.8\n",
      " Standard Deviation : 15.61\n"
     ]
    }
   ],
   "source": [
    "#<=========== Data Preprocessing ===========>\n",
    "# Importing the libraries\n",
    "import numpy as np           \t  #For working with arrays \n",
    "import matplotlib.pyplot as plt   #For plotting graphs\n",
    "import pandas as pd        \t  #For working withs datasets in datafram formate\n",
    "\n",
    "# Importing the dataset \n",
    "dataset = pd.read_csv('Sonar_Data.csv')     #Importing the data.csv file\n",
    "X = dataset.iloc[:, :-1].values       # Independent veriables all rows and all columns expect last cloumn is in X\n",
    "Y = dataset.iloc[:, -1].values        # Dependent veriable only last column and all rows\n",
    "\n",
    "# Taking care of missing data\n",
    "from sklearn.impute import SimpleImputer\n",
    "imputer = SimpleImputer(missing_values=np.nan, strategy='mean')\n",
    "imputer.fit(X[:, :-1])\n",
    "X[:, :-1] = imputer.transform(X[:, :-1])\n",
    "#print(X)\n",
    "\n",
    "# Splitting the dataset into the Training set and Test set\n",
    "from sklearn.model_selection import train_test_split   # Import skleran library\n",
    "X_train, X_test, Y_train, Y_test = train_test_split(X, Y, test_size = 0.25, random_state = 0) # Create Test and Train set that will be 20% Test and 80% training with random selection enable\n",
    "\n",
    "# Feature Scaling\n",
    "from sklearn.preprocessing import StandardScaler\n",
    "sc = StandardScaler()\n",
    "X_train = sc.fit_transform(X_train)\n",
    "X_test = sc.transform(X_test)\n",
    "\n",
    "\n",
    "#<=========== Training the model on the Training setData Preprocessing ===========>\n",
    "\n",
    "#Importing The Respective Model And Traing With The Training Set \n",
    "from sklearn.linear_model import LogisticRegression\n",
    "classifier = LogisticRegression(random_state =0)\n",
    "classifier.fit(X_train, Y_train)\n",
    "\n",
    "\n",
    "#<=========== Predicting the Test set results ===========>\n",
    "\n",
    "Y_pred = classifier.predict(X_test)\n",
    "\n",
    "#Printing Predicted And Real Test Results Side By Side\n",
    "np.set_printoptions()\n",
    "#print(np.concatenate((Y_pred.reshape(len(Y_pred),1), Y_test.reshape(len(Y_test),1)), 1))\n",
    "\n",
    "\n",
    "#<=========== Making the Confusion Matrix ===========>\n",
    "\n",
    "from sklearn.metrics import confusion_matrix, accuracy_score\n",
    "\n",
    "cm = confusion_matrix(Y_test, Y_pred)\n",
    "print(cm)\n",
    "acc = accuracy_score(Y_test, Y_pred)\n",
    "print(f'Accuracy = {acc*100}')\n",
    "\n",
    "#<=========== Computing The Accuracy ===========>\n",
    "\n",
    "# Accuracy With K-Fold Cross Validation\n",
    "\n",
    "from sklearn.model_selection import cross_val_score\n",
    "Accuracies = cross_val_score(estimator = classifier, X = X_train, y = Y_train, cv = 20)\n",
    "Acc = Accuracies.mean()*100\n",
    "Std = Accuracies.std()*100\n",
    "\n",
    "print(f' Accuracy : {round(Acc, 2)}')\n",
    "print(f' Standard Deviation : {round(Std, 2)}')\n",
    "\n"
   ]
  },
  {
   "cell_type": "code",
   "execution_count": null,
   "id": "90e0f662",
   "metadata": {},
   "outputs": [],
   "source": []
  }
 ],
 "metadata": {
  "kernelspec": {
   "display_name": "Python 3 (ipykernel)",
   "language": "python",
   "name": "python3"
  },
  "language_info": {
   "codemirror_mode": {
    "name": "ipython",
    "version": 3
   },
   "file_extension": ".py",
   "mimetype": "text/x-python",
   "name": "python",
   "nbconvert_exporter": "python",
   "pygments_lexer": "ipython3",
   "version": "3.9.12"
  }
 },
 "nbformat": 4,
 "nbformat_minor": 5
}
